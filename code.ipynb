{
  "nbformat": 4,
  "nbformat_minor": 0,
  "metadata": {
    "colab": {
      "provenance": []
    },
    "kernelspec": {
      "name": "python3",
      "display_name": "Python 3"
    },
    "language_info": {
      "name": "python"
    }
  },
  "cells": [
    {
      "cell_type": "code",
      "execution_count": 2,
      "metadata": {
        "id": "KRqayyZ6Kt6H",
        "colab": {
          "base_uri": "https://localhost:8080/",
          "height": 339
        },
        "outputId": "8a716412-6757-4228-e174-8552f437391b"
      },
      "outputs": [
        {
          "output_type": "error",
          "ename": "ModuleNotFoundError",
          "evalue": "ignored",
          "traceback": [
            "\u001b[0;31m---------------------------------------------------------------------------\u001b[0m",
            "\u001b[0;31mModuleNotFoundError\u001b[0m                       Traceback (most recent call last)",
            "\u001b[0;32m<ipython-input-2-2a2a517d7d59>\u001b[0m in \u001b[0;36m<cell line: 3>\u001b[0;34m()\u001b[0m\n\u001b[1;32m      1\u001b[0m \u001b[0;32mimport\u001b[0m \u001b[0mnumpy\u001b[0m \u001b[0;32mas\u001b[0m \u001b[0mnp\u001b[0m\u001b[0;34m\u001b[0m\u001b[0;34m\u001b[0m\u001b[0m\n\u001b[1;32m      2\u001b[0m \u001b[0;32mimport\u001b[0m \u001b[0mmatplotlib\u001b[0m\u001b[0;34m.\u001b[0m\u001b[0mpyplot\u001b[0m \u001b[0;32mas\u001b[0m \u001b[0mplt\u001b[0m\u001b[0;34m\u001b[0m\u001b[0;34m\u001b[0m\u001b[0m\n\u001b[0;32m----> 3\u001b[0;31m \u001b[0;32mimport\u001b[0m \u001b[0mPyside2\u001b[0m \u001b[0;32mas\u001b[0m \u001b[0mpy2\u001b[0m\u001b[0;34m\u001b[0m\u001b[0;34m\u001b[0m\u001b[0m\n\u001b[0m",
            "\u001b[0;31mModuleNotFoundError\u001b[0m: No module named 'Pyside2'",
            "",
            "\u001b[0;31m---------------------------------------------------------------------------\u001b[0;32m\nNOTE: If your import is failing due to a missing package, you can\nmanually install dependencies using either !pip or !apt.\n\nTo view examples of installing some common dependencies, click the\n\"Open Examples\" button below.\n\u001b[0;31m---------------------------------------------------------------------------\u001b[0m\n"
          ],
          "errorDetails": {
            "actions": [
              {
                "action": "open_url",
                "actionText": "Open Examples",
                "url": "/notebooks/snippets/importing_libraries.ipynb"
              }
            ]
          }
        }
      ],
      "source": [
        "import numpy as np\n",
        "import matplotlib.pyplot as plt\n",
        "import Pyside2 as py2"
      ]
    },
    {
      "cell_type": "code",
      "source": [
        "class Function_Plotter:\n",
        "\n",
        "  def __init__(self):\n",
        "    \"\"\"\n",
        "\n",
        "    Initializes the FunctionPlotter object by getting the function, minimum value of x, and maximum value of x from the user,\n",
        "    It also calls the `is_input_valid()` method to validate the function input and the `plot()` method to generate the plot.\n",
        "    and it check if min_x and max_s strings contain only numeric characters and a single dot\n",
        "    \"\"\"\n",
        "    while True:\n",
        "      self.func = input('Enter function of x: ').replace(' ','')\n",
        "\n",
        "      if self.is_input_valid():\n",
        "        self.min_x = input('Enter Min value of x: ')\n",
        "        self.max_x = input('Enter Max value of x: ')\n",
        "\n",
        "        check_min = [True if i.isdigit() or i == '.' or i == 'e' or i == '-' else False for i in self.min_x]\n",
        "        check_min = np.logical_and(check_min, self.min_x.count('.') <= 1)\n",
        "\n",
        "        check_max = [True if i.isdigit() or i == '.' or i == 'e' or i == '-' else False for i in self.max_x]\n",
        "        check_max = np.logical_and(check_max, self.max_x.count('.') <= 1)\n",
        "\n",
        "        if all(check_min) and all(check_max):\n",
        "          self.min_x = float(self.min_x)\n",
        "          self.max_x = float(self.max_x)\n",
        "          self.plot()\n",
        "          break\n",
        "        else:\n",
        "          print('\\nInvalid value, min_x and max_x should be numeric value')\n",
        "          self.__init__()\n",
        "      else:\n",
        "        print(\"\\nInvalid function. Please re-enter.\")\n",
        "\n",
        "\n",
        "  def is_input_valid(self):\n",
        "    \"\"\"\n",
        "\n",
        "      This function checks if the input function string is in the appropriate format for evaluation.\n",
        "      It verifies the presence of 'x' variable, checks for valid characters (digits, 'x', operators),\n",
        "      ensures correct placement of operators and operands, and validates the order of parentheses.\n",
        "\n",
        "      Parameters:\n",
        "        None\n",
        "\n",
        "      Returns:\n",
        "        bool: True if the function string is in the appropriate format, False otherwise.\n",
        "    \"\"\"\n",
        "\n",
        "    if 'x' not in self.func or 'xx' in self.func :\n",
        "      print(\"Error!, Missing 'x' in the function or double 'xx'\")\n",
        "      return False\n",
        "\n",
        "    operators = ['-', '+', '*', '/', '^']\n",
        "    valid_chars = list('0123456789x')\n",
        "    parentheses =  ['(',')']\n",
        "    brackets = 0\n",
        "\n",
        "    for i in range(len(self.func)):\n",
        "      if self.func[i] not in valid_chars + operators +parentheses:\n",
        "        print(f\"Error!, Invalid character ({self.func[i],i}) in the function, these only permissible characters {operators+ valid_chars+ parentheses}\")\n",
        "        return False\n",
        "\n",
        "      if self.func[i] == 'x' and ((self.func[i-1] not in operators + parentheses and i != 0) or (i != len(self.func) - 1 and self.func[i+1] not in operators + parentheses)):\n",
        "        print(\"Error!, Numbers found before or after 'x' in the function\")\n",
        "        return False\n",
        "\n",
        "      if self.func[i] in operators:\n",
        "        if (self.func[0] in operators[1:] or self.func[-1] in operators) or (self.func[i] != '-' and i == len(self.func) - 1 or self.func[i + 1] not in valid_chars) or (self.func[i-1] == '(' or self.func[i+1] == ')'):\n",
        "          print(\"Error!, Incorrect placement of operators and operands\")\n",
        "          return False\n",
        "        elif self.func[i - 1] not in valid_chars and self.func[i + 1] not in valid_chars:\n",
        "          print(\"Error!, Incorrect placement of operators and operands\")\n",
        "          return False\n",
        "\n",
        "      if self.func[i] == '(':\n",
        "        brackets += 1\n",
        "      elif self.func[i] == ')':\n",
        "        brackets -= 1\n",
        "\n",
        "      if brackets < 0:\n",
        "        print(\"Error: Incorrect order of parentheses\")\n",
        "        return False\n",
        "\n",
        "    if brackets != 0:\n",
        "      print(\"Error: Incorrect order of parentheses\")\n",
        "      return False\n",
        "\n",
        "    return True\n",
        "\n",
        "\n",
        "  def evaluation(self, val):\n",
        "    \"\"\"\n",
        "    Evaluates the function for a given value.\n",
        "\n",
        "    Parameters:\n",
        "      val: The value of min_x and max_x in the function.\n",
        "\n",
        "    Returns:\n",
        "      The result of evaluating the function for the given value, or False if an error occurs.\n",
        "    \"\"\"\n",
        "\n",
        "    modified_func  = self.func.replace('^','**')\n",
        "    modified_func  = modified_func.replace('x', str(val))\n",
        "    result = 0\n",
        "\n",
        "    try:\n",
        "      result = eval(modified_func)\n",
        "    except Exception as err:\n",
        "      print(\"An error occurred:\", str(err),'\\n')\n",
        "      self.__init__()\n",
        "\n",
        "    return result\n",
        "\n",
        "\n",
        "  def plot(self):\n",
        "    \"\"\"\n",
        "    Generates a plot of the function graphically on the x and y axes using matplotlib.\n",
        "    This method calculates the y-values for a given range of x-values based on the function equation entered by the user,\n",
        "    It then plots the calculated points on a graph and displays it.\n",
        "\n",
        "    Parameters:\n",
        "      None\n",
        "\n",
        "    Returns:\n",
        "      None\n",
        "    \"\"\"\n",
        "\n",
        "    fig, axis = plt.subplots()\n",
        "\n",
        "    x_axis = np.linspace(self.min_x, self.max_x)\n",
        "    y_axis = [self.evaluation(x) for x in x_axis]\n",
        "\n",
        "    axis.set_xlim(self.min_x, self.max_x)\n",
        "    axis.set_ylim(min(y_axis), max(y_axis))\n",
        "\n",
        "    axis.spines['left'].set_position('zero')\n",
        "    axis.spines['bottom'].set_position('zero')\n",
        "\n",
        "    axis.spines['top'].set_visible(False)\n",
        "    axis.spines['right'].set_visible(False)\n",
        "\n",
        "    axis.plot(x_axis, y_axis, 'bo-')\n",
        "\n",
        "    print()\n",
        "    plt.show()\n",
        "\n",
        "\n",
        "a = Function_Plotter()"
      ],
      "metadata": {
        "colab": {
          "base_uri": "https://localhost:8080/",
          "height": 475
        },
        "id": "4kCYiU20LEzl",
        "outputId": "95a76a08-d048-4a5a-bf2c-2a653e4dcbcd"
      },
      "execution_count": 3,
      "outputs": [
        {
          "output_type": "stream",
          "name": "stdout",
          "text": [
            "Enter function of x: x ^ 6 - 3 * x\n",
            "Enter Min value of x: -3\n",
            "Enter Max value of x: 3\n",
            "\n"
          ]
        },
        {
          "output_type": "display_data",
          "data": {
            "text/plain": [
              "<Figure size 640x480 with 1 Axes>"
            ],
            "image/png": "[encoded data removed]"
          },
          "metadata": {}
        }
      ]
    }
  ]
}